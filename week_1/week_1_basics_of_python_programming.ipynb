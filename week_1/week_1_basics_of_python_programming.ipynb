{
  "nbformat": 4,
  "nbformat_minor": 0,
  "metadata": {
    "colab": {
      "provenance": [],
      "toc_visible": true,
      "authorship_tag": "ABX9TyP/9IoqC1mxKCCX31+9rZO8",
      "include_colab_link": true
    },
    "kernelspec": {
      "name": "python3",
      "display_name": "Python 3"
    },
    "language_info": {
      "name": "python"
    }
  },
  "cells": [
    {
      "cell_type": "markdown",
      "metadata": {
        "id": "view-in-github",
        "colab_type": "text"
      },
      "source": [
        "<a href=\"https://colab.research.google.com/github/Shivani-781/data-science-resources/blob/collab-week-1/week_1/week_1_basics_of_python_programming.ipynb\" target=\"_parent\"><img src=\"https://colab.research.google.com/assets/colab-badge.svg\" alt=\"Open In Colab\"/></a>"
      ]
    },
    {
      "cell_type": "markdown",
      "source": [
        "# Topics to be Covered\n",
        "\n",
        "\n",
        "*   About Python\n",
        "*   Data Types\n",
        "*   Variables\n",
        "*   Comments\n",
        "*   Keywords\n",
        "*   Identifiers\n",
        "*   User Input\n",
        "*   Type Conversion\n",
        "*   Literals\n",
        "*   If/Else Statements\n",
        "\n",
        "\n",
        "\n"
      ],
      "metadata": {
        "id": "LCbpdm2JsK3q"
      }
    },
    {
      "cell_type": "markdown",
      "source": [
        "# About Python\n",
        "\n",
        "\n"
      ],
      "metadata": {
        "id": "B5ZsfcL8tCLp"
      }
    },
    {
      "cell_type": "markdown",
      "source": [
        "Python is a powerful, beginner-friendly programming language known for its readability and simplicity.\n",
        "\n",
        "It was created by Guido van Rossum, and first released on February 20, 1991.\n",
        "\n",
        "> **Fun Fact**: *Python is named after Monty Python's Flying Circus, not the snake!*\n",
        "\n",
        "Python is an **interpreted** language.\n",
        "In an interpreted language, the code is translated into machine-readable instructions at runtime, line by line, by an interpreter. This immediate execution makes it flexible for development and debugging but generally slower than pre-compiled code.\n",
        "In a compiled language like C, the entire code is translated into machine code before execution, producing an executable file. This process happens only once, making it faster during runtime but requiring additional steps in development.\n",
        "\n",
        "\n",
        "\n",
        "**What makes Python so popular?**\n",
        "\n",
        "\n",
        "\n",
        "*   **Design Philosophy** - Simple structure, easy to learn, well-indented, and readable; Python is beautiful and welcoming.\n",
        "*   **Batteries Included** - Built-in datatypes come with useful functions like reverse(), len(), membership operators, etc.\n",
        "*   **General Purpose** - Supports various paradigms, like POP, OOP, and is widely used in data science, web development, etc.\n",
        "*   **Libraries/Community** - Vast open-source libraries and a strong, supportive community.\n",
        "\n",
        "\n",
        "**Why Python for Data Science?**\n",
        "\n",
        "\n",
        "\n",
        "*   **Easy to Learn** - Python's simplicity makes it accessible for those from non-programming backgrounds, allowing mathematicians and domain experts to convert algorithms into code more easily than in other languages\n",
        "*   **Math-Friendly Libraries** - Libraries like SciPy and NumPy are specifically designed for mathematical and scientific computations, making Python a natural fit\n",
        "*   **Strong Community** - A rich ecosystem of libraries (Pandas, Matplotlib, Scikit-learn, and more) and a supportive community make Python the go-to language for data science.\n",
        "\n"
      ],
      "metadata": {
        "id": "YS3_wbrTyu4s"
      }
    },
    {
      "cell_type": "code",
      "source": [
        "# Python is a case sensitive language i.e. 'Print' & 'print' are different\n",
        "print('Hello World')"
      ],
      "metadata": {
        "colab": {
          "base_uri": "https://localhost:8080/"
        },
        "id": "u039bx5b2A1v",
        "outputId": "8223e749-5185-4bd0-f925-27ed3fe97333"
      },
      "execution_count": null,
      "outputs": [
        {
          "output_type": "stream",
          "name": "stdout",
          "text": [
            "Hello World\n"
          ]
        }
      ]
    },
    {
      "cell_type": "code",
      "source": [
        "print(hello world)"
      ],
      "metadata": {
        "colab": {
          "base_uri": "https://localhost:8080/",
          "height": 108
        },
        "id": "XuVeCNkk2MtR",
        "outputId": "941f000c-4740-468d-a395-f21b85d9a54a"
      },
      "execution_count": null,
      "outputs": [
        {
          "output_type": "error",
          "ename": "SyntaxError",
          "evalue": "invalid syntax. Perhaps you forgot a comma? (<ipython-input-2-6135c6da936c>, line 1)",
          "traceback": [
            "\u001b[0;36m  File \u001b[0;32m\"<ipython-input-2-6135c6da936c>\"\u001b[0;36m, line \u001b[0;32m1\u001b[0m\n\u001b[0;31m    print(hello world)\u001b[0m\n\u001b[0m          ^\u001b[0m\n\u001b[0;31mSyntaxError\u001b[0m\u001b[0;31m:\u001b[0m invalid syntax. Perhaps you forgot a comma?\n"
          ]
        }
      ]
    },
    {
      "cell_type": "code",
      "source": [
        "# Default separator is space (' ')\n",
        "print('Hello',1,6.5,True)"
      ],
      "metadata": {
        "colab": {
          "base_uri": "https://localhost:8080/"
        },
        "id": "qAkTf7d62Zkb",
        "outputId": "db4bc7f4-e9de-42ba-8a90-0a473893c614"
      },
      "execution_count": null,
      "outputs": [
        {
          "output_type": "stream",
          "name": "stdout",
          "text": [
            "Hello 1 6.5 True\n"
          ]
        }
      ]
    },
    {
      "cell_type": "code",
      "source": [
        "print('Hello',1,6.5,True,sep=',')"
      ],
      "metadata": {
        "colab": {
          "base_uri": "https://localhost:8080/"
        },
        "id": "JOmwXVG32lR0",
        "outputId": "78498b3a-e489-428d-8b9b-717835430175"
      },
      "execution_count": null,
      "outputs": [
        {
          "output_type": "stream",
          "name": "stdout",
          "text": [
            "Hello,1,6.5,True\n"
          ]
        }
      ]
    },
    {
      "cell_type": "code",
      "source": [
        "# Default end behavior is \\n (new line)\n",
        "print('hello')\n",
        "print('world')"
      ],
      "metadata": {
        "colab": {
          "base_uri": "https://localhost:8080/"
        },
        "id": "EFdVd-tN3Dhe",
        "outputId": "aa4343eb-7ac7-408f-fc28-880d4437237a"
      },
      "execution_count": null,
      "outputs": [
        {
          "output_type": "stream",
          "name": "stdout",
          "text": [
            "hello\n",
            "world\n"
          ]
        }
      ]
    },
    {
      "cell_type": "code",
      "source": [
        "print('hello',end=' ')\n",
        "print('world')"
      ],
      "metadata": {
        "colab": {
          "base_uri": "https://localhost:8080/"
        },
        "id": "e9clyq_03PvG",
        "outputId": "9874c69e-b945-4445-d66e-1573e1681700"
      },
      "execution_count": null,
      "outputs": [
        {
          "output_type": "stream",
          "name": "stdout",
          "text": [
            "hello world\n"
          ]
        }
      ]
    },
    {
      "cell_type": "markdown",
      "source": [
        "# Data Types"
      ],
      "metadata": {
        "id": "_YAWlx1T136p"
      }
    },
    {
      "cell_type": "markdown",
      "source": [
        "Integer, Float, Boolean, String, Complex number, List, Tuple, Set, Dictionary, None"
      ],
      "metadata": {
        "id": "HQwadorqmuVL"
      }
    },
    {
      "cell_type": "code",
      "source": [
        "# Integer\n",
        "print(8)\n",
        "# 1*10^308\n",
        "print(1e308)\n",
        "print(1e309) # Considers number greater than 1*10^308 as infinite"
      ],
      "metadata": {
        "colab": {
          "base_uri": "https://localhost:8080/"
        },
        "id": "rwIqKqJl2Ys4",
        "outputId": "e293a5a4-899a-44d3-b085-b86adc7bfb15"
      },
      "execution_count": null,
      "outputs": [
        {
          "output_type": "stream",
          "name": "stdout",
          "text": [
            "8\n",
            "1e+308\n",
            "inf\n"
          ]
        }
      ]
    },
    {
      "cell_type": "code",
      "source": [
        "# Decimal/Float\n",
        "print(8.55)\n",
        "print(1.7e308)\n",
        "print(1.7e309) # Considers decimals greater than 1.7*10^308 as infinite"
      ],
      "metadata": {
        "colab": {
          "base_uri": "https://localhost:8080/"
        },
        "id": "RJ04j7Nu1-Zf",
        "outputId": "da981270-8c04-4dd5-c860-9c5e826b616f"
      },
      "execution_count": null,
      "outputs": [
        {
          "output_type": "stream",
          "name": "stdout",
          "text": [
            "8.55\n",
            "1.7e+308\n",
            "inf\n"
          ]
        }
      ]
    },
    {
      "cell_type": "code",
      "source": [
        "# Boolean\n",
        "print(True)\n",
        "print(False)"
      ],
      "metadata": {
        "colab": {
          "base_uri": "https://localhost:8080/"
        },
        "id": "tPlPoonT4nke",
        "outputId": "5fa07139-946b-448c-e98a-7f82d8c2e1e3"
      },
      "execution_count": null,
      "outputs": [
        {
          "output_type": "stream",
          "name": "stdout",
          "text": [
            "True\n",
            "False\n"
          ]
        }
      ]
    },
    {
      "cell_type": "code",
      "source": [
        "# Text/String\n",
        "print('Hello World')"
      ],
      "metadata": {
        "colab": {
          "base_uri": "https://localhost:8080/"
        },
        "id": "DSP9Y18F4zdi",
        "outputId": "bd6dd661-43ff-41b0-de3d-e05fdcecd662"
      },
      "execution_count": null,
      "outputs": [
        {
          "output_type": "stream",
          "name": "stdout",
          "text": [
            "Hello World\n"
          ]
        }
      ]
    },
    {
      "cell_type": "code",
      "source": [
        "# complex\n",
        "print(5+6j)"
      ],
      "metadata": {
        "colab": {
          "base_uri": "https://localhost:8080/"
        },
        "id": "WGkXYE3p412g",
        "outputId": "acce15ac-7c39-4a50-8e14-1dff3f798956"
      },
      "execution_count": null,
      "outputs": [
        {
          "output_type": "stream",
          "name": "stdout",
          "text": [
            "(5+6j)\n"
          ]
        }
      ]
    },
    {
      "cell_type": "code",
      "source": [
        "# List\n",
        "print([1,2,3,4,5])"
      ],
      "metadata": {
        "colab": {
          "base_uri": "https://localhost:8080/"
        },
        "id": "e2z3B4wF43jD",
        "outputId": "958223cb-61f8-405c-a311-0db05637cc32"
      },
      "execution_count": null,
      "outputs": [
        {
          "output_type": "stream",
          "name": "stdout",
          "text": [
            "[1, 2, 3, 4, 5]\n"
          ]
        }
      ]
    },
    {
      "cell_type": "code",
      "source": [
        "# Tuple\n",
        "print((1,2,3,4,5))"
      ],
      "metadata": {
        "colab": {
          "base_uri": "https://localhost:8080/"
        },
        "id": "dmf0qZ0y47u4",
        "outputId": "f10f927e-7a97-47fd-9b36-9220ac991450"
      },
      "execution_count": null,
      "outputs": [
        {
          "output_type": "stream",
          "name": "stdout",
          "text": [
            "(1, 2, 3, 4, 5)\n"
          ]
        }
      ]
    },
    {
      "cell_type": "code",
      "source": [
        "# Sets\n",
        "print({1,2,3,4,5})"
      ],
      "metadata": {
        "colab": {
          "base_uri": "https://localhost:8080/"
        },
        "id": "jmt_Es1M4-Lp",
        "outputId": "6db50b7f-c3e5-497c-cec5-5f280d55ebe3"
      },
      "execution_count": null,
      "outputs": [
        {
          "output_type": "stream",
          "name": "stdout",
          "text": [
            "{1, 2, 3, 4, 5}\n"
          ]
        }
      ]
    },
    {
      "cell_type": "code",
      "source": [
        "# Dictionary\n",
        "print({'name':'Alex','gender':'Male','weight':60})"
      ],
      "metadata": {
        "colab": {
          "base_uri": "https://localhost:8080/"
        },
        "id": "dCwkirHP5AAw",
        "outputId": "bc9a1f72-4019-4523-afeb-eb13dc51ef79"
      },
      "execution_count": null,
      "outputs": [
        {
          "output_type": "stream",
          "name": "stdout",
          "text": [
            "{'name': 'Alex', 'gender': 'Male', 'weight': 60}\n"
          ]
        }
      ]
    },
    {
      "cell_type": "code",
      "source": [
        "# type\n",
        "type([1,2,3])"
      ],
      "metadata": {
        "colab": {
          "base_uri": "https://localhost:8080/"
        },
        "id": "vK7czKu_5Dbj",
        "outputId": "1189dea1-d442-4571-d689-fd70778b491a"
      },
      "execution_count": null,
      "outputs": [
        {
          "output_type": "execute_result",
          "data": {
            "text/plain": [
              "list"
            ]
          },
          "metadata": {},
          "execution_count": 27
        }
      ]
    },
    {
      "cell_type": "markdown",
      "source": [
        "# Variables"
      ],
      "metadata": {
        "id": "5qCk4gEvCfDd"
      }
    },
    {
      "cell_type": "markdown",
      "source": [
        "Variable are like containers where we can store any information for future use."
      ],
      "metadata": {
        "id": "uLeIJJddD04b"
      }
    },
    {
      "cell_type": "code",
      "source": [
        "# Static Vs Dynamic Typing\n",
        "# Static Vs Dynamic Binding\n",
        "# stylish declaration techniques"
      ],
      "metadata": {
        "id": "ffbjK-TMC2Sk"
      },
      "execution_count": null,
      "outputs": []
    },
    {
      "cell_type": "code",
      "source": [
        "# C/C++\n",
        "\n",
        "# int numb = 5\n",
        "\n",
        "# Python - No pre-declaration needed\n",
        "name = 'alex'\n",
        "print(name)\n",
        "\n",
        "a = 5\n",
        "b = 6\n",
        "\n",
        "print(a + b)"
      ],
      "metadata": {
        "colab": {
          "base_uri": "https://localhost:8080/"
        },
        "id": "Rw8dqKi8C4Ql",
        "outputId": "c1957b28-9e2f-4799-aa26-c94d93d61e47"
      },
      "execution_count": null,
      "outputs": [
        {
          "output_type": "stream",
          "name": "stdout",
          "text": [
            "alex\n",
            "11\n"
          ]
        }
      ]
    },
    {
      "cell_type": "code",
      "source": [
        "# Dynamic Typing\n",
        "a = 5\n",
        "# Static Typing\n",
        "int a = 5"
      ],
      "metadata": {
        "id": "hUi5AEJUC9P0"
      },
      "execution_count": null,
      "outputs": []
    },
    {
      "cell_type": "code",
      "source": [
        "# Dynamic Binding\n",
        "a = 5\n",
        "print(a)\n",
        "a = 'nitish'\n",
        "print(a)\n",
        "\n",
        "# Static Binding - cannot change the data type further in the program\n",
        "int a = 5"
      ],
      "metadata": {
        "colab": {
          "base_uri": "https://localhost:8080/"
        },
        "id": "umTTuvaqDAGH",
        "outputId": "669f66cf-e4bd-4124-8f6a-4d6ff9479e35"
      },
      "execution_count": null,
      "outputs": [
        {
          "output_type": "stream",
          "name": "stdout",
          "text": [
            "5\n",
            "nitish\n"
          ]
        }
      ]
    },
    {
      "cell_type": "code",
      "source": [
        "a = 1\n",
        "b = 2\n",
        "c = 3\n",
        "print(a,b,c)"
      ],
      "metadata": {
        "colab": {
          "base_uri": "https://localhost:8080/"
        },
        "id": "wXW6HHvbDJqs",
        "outputId": "37b7921b-d6fc-4db5-d154-2073cebc64ba"
      },
      "execution_count": null,
      "outputs": [
        {
          "output_type": "stream",
          "name": "stdout",
          "text": [
            "1 2 3\n"
          ]
        }
      ]
    },
    {
      "cell_type": "code",
      "source": [
        "a,b,c = 1,2,3\n",
        "print(a,b,c)"
      ],
      "metadata": {
        "colab": {
          "base_uri": "https://localhost:8080/"
        },
        "id": "CXAvU-S_DZCJ",
        "outputId": "5290a372-abda-4222-d621-97690fe84a22"
      },
      "execution_count": null,
      "outputs": [
        {
          "output_type": "stream",
          "name": "stdout",
          "text": [
            "1 2 3\n"
          ]
        }
      ]
    },
    {
      "cell_type": "code",
      "source": [
        "a=b=c= 5\n",
        "print(a,b,c)"
      ],
      "metadata": {
        "colab": {
          "base_uri": "https://localhost:8080/"
        },
        "id": "qgoPKvr_DckL",
        "outputId": "18eb6835-67b0-4c21-a1f8-af2c357a6f86"
      },
      "execution_count": null,
      "outputs": [
        {
          "output_type": "stream",
          "name": "stdout",
          "text": [
            "5 5 5\n"
          ]
        }
      ]
    },
    {
      "cell_type": "markdown",
      "source": [
        "# Comments\n",
        "\n"
      ],
      "metadata": {
        "id": "SYYD4Hn_qJ_h"
      }
    },
    {
      "cell_type": "markdown",
      "source": [
        "Comments are pieces of text that are not executed by the interpreter but is added to provide additional information about the code."
      ],
      "metadata": {
        "id": "EnUR-6Qqqcen"
      }
    },
    {
      "cell_type": "code",
      "source": [
        "# This is the first comment\n",
        "a = 5\n",
        "b = 6 # this is also a comment\n",
        "# Print the sum\n",
        "print(a+b)\n",
        "\n",
        "\n",
        "# While Python doesn’t have a specific syntax for multiline comments,\n",
        "# using triple quotes achieves a similar effect like below,\n",
        "# as the interpreter ignores the enclosed text.\n",
        "# As per the PEP8 guideline, we can comment multiple lines\n",
        "# using '#' like this whenever needed as\n",
        "# only single-line comment is supported in python.\n",
        "\n",
        "'''\n",
        "This triple-quote can be used as a\n",
        "multi-line comment in Python as far as this\n",
        "is not being assigned to a variable.\n",
        "'''"
      ],
      "metadata": {
        "colab": {
          "base_uri": "https://localhost:8080/",
          "height": 53
        },
        "id": "2PUeIwM0qOBl",
        "outputId": "5ad5ffe5-f9ff-43f3-b130-6c28708cef4a"
      },
      "execution_count": 8,
      "outputs": [
        {
          "output_type": "stream",
          "name": "stdout",
          "text": [
            "11\n"
          ]
        },
        {
          "output_type": "execute_result",
          "data": {
            "text/plain": [
              "'\\nThis triple-quote can be used as a\\nmulti-line comment in Python as far as this\\nis not being assigned to a variable.\\n'"
            ],
            "application/vnd.google.colaboratory.intrinsic+json": {
              "type": "string"
            }
          },
          "metadata": {},
          "execution_count": 8
        }
      ]
    },
    {
      "cell_type": "markdown",
      "source": [
        "# Keywords"
      ],
      "metadata": {
        "id": "FSc4uSc4um8f"
      }
    },
    {
      "cell_type": "markdown",
      "source": [
        "Compilation/Interpretation - converting code which is in high-level language (english-like language that we write it in) to binary language which the machine understands.\n",
        "Compiler does this in one-go (Java, C, C++) whereas Interpreter does it line-by-line (Python, PHP)\n",
        "\n",
        "To do this, there are some words reserved by the compiler/interpreter that helps them in decoding the code. In python, there are around 35 keywords - https://docs.python.org/3/reference/lexical_analysis.html#keywords"
      ],
      "metadata": {
        "id": "PwLt6OfzvNpG"
      }
    },
    {
      "cell_type": "markdown",
      "source": [
        "# Identifiers"
      ],
      "metadata": {
        "id": "3mID9laQxuI6"
      }
    },
    {
      "cell_type": "markdown",
      "source": [
        "An Identifier is a name given to any variable, user-defined function, class, etc. in a program. Below are the rules for identifiers:\n",
        "\n",
        "\n",
        "*   It can't start with a digit like `1name = 'Alex'`\n",
        "*   It can have lowercase, uppercase characters but in special characters only underscore is allowed. `first-name = 'Alex'` will throw an error. `_ = 'Alex'` will work fine.\n",
        "*   It cannot be a reserved word (keyword)\n",
        "\n",
        "\n",
        "\n",
        "\n",
        "\n",
        "\n",
        "\n"
      ],
      "metadata": {
        "id": "hoFZ9zUaXL-I"
      }
    },
    {
      "cell_type": "markdown",
      "source": [
        "# User Input"
      ],
      "metadata": {
        "id": "3QS2Dr_JYqZj"
      }
    },
    {
      "cell_type": "markdown",
      "source": [
        "Static Softwares don't require any interaction with the users (Clock, Calendar, Blog, Informative websites) whereas Dynamic Softwares needs inputs from the users (Youtube, Calculator, Google Chrome)."
      ],
      "metadata": {
        "id": "ZL8WelUcY2-N"
      }
    },
    {
      "cell_type": "code",
      "source": [
        "input() # Here we're not specifying what is expected as an input"
      ],
      "metadata": {
        "colab": {
          "base_uri": "https://localhost:8080/",
          "height": 53
        },
        "id": "-aDJ__zWYtSH",
        "outputId": "7b30e232-709d-423c-d89a-2be03818afde"
      },
      "execution_count": 10,
      "outputs": [
        {
          "name": "stdout",
          "output_type": "stream",
          "text": [
            "Hola!\n"
          ]
        },
        {
          "output_type": "execute_result",
          "data": {
            "text/plain": [
              "'Hola!'"
            ],
            "application/vnd.google.colaboratory.intrinsic+json": {
              "type": "string"
            }
          },
          "metadata": {},
          "execution_count": 10
        }
      ]
    },
    {
      "cell_type": "code",
      "source": [
        "input(\"Please enter your name: \")"
      ],
      "metadata": {
        "colab": {
          "base_uri": "https://localhost:8080/",
          "height": 53
        },
        "id": "XS8vdoScZYgM",
        "outputId": "3abcdd0f-ad10-4b2f-c3af-35630f675dfa"
      },
      "execution_count": 11,
      "outputs": [
        {
          "name": "stdout",
          "output_type": "stream",
          "text": [
            "Please enter your name: Alex\n"
          ]
        },
        {
          "output_type": "execute_result",
          "data": {
            "text/plain": [
              "'Alex'"
            ],
            "application/vnd.google.colaboratory.intrinsic+json": {
              "type": "string"
            }
          },
          "metadata": {},
          "execution_count": 11
        }
      ]
    },
    {
      "cell_type": "code",
      "source": [
        "# Take 2 numbers as an input from the user and output the sum.\n",
        "a = int(input(\"Enter first number: \")) # default type of input is string as string is a universal format, convert it\n",
        "b = int(input(\"Enter second number: \"))\n",
        "print(f\"The sum of the two numbers is: {a + b}\")"
      ],
      "metadata": {
        "colab": {
          "base_uri": "https://localhost:8080/"
        },
        "id": "CQYQnZP7ZrXr",
        "outputId": "c154ad4a-2a07-4c73-f9d3-9e3446d0b361"
      },
      "execution_count": 14,
      "outputs": [
        {
          "output_type": "stream",
          "name": "stdout",
          "text": [
            "Enter first number: 5\n",
            "Enter second number: 5\n",
            "The sum of the two numbers is: 10\n"
          ]
        }
      ]
    },
    {
      "cell_type": "markdown",
      "source": [
        "# Type Conversion"
      ],
      "metadata": {
        "id": "27FYzziebLQx"
      }
    },
    {
      "cell_type": "markdown",
      "source": [
        "Converting from one type to another. It doesn't change the actual data held by the variable, it creates a new value with the specified type (no in-place conversion). Two ways:\n",
        "\n",
        "\n",
        "*   Implicit type conversion - done by interpreter\n",
        "\n",
        "*   Explicit type conversion - done by the programmer\n",
        "\n",
        "**Note:** In python, we have type conversion, while in other languages we have type-casting. In type-casting, values get modified in-place, so where ever the type-casted variable is used further in the program, it will have the new type, contrary to what happens in type conversion.\n"
      ],
      "metadata": {
        "id": "FaGh7okabeG1"
      }
    },
    {
      "cell_type": "code",
      "source": [
        "# Implicit type conversion\n",
        "print(5+5.6) # Output: 10.6\n",
        "print(type(5), type(5.6)) # int + float, but output is in float\n",
        "print(type(5+5.6))"
      ],
      "metadata": {
        "colab": {
          "base_uri": "https://localhost:8080/"
        },
        "id": "-HxHVoj0aArJ",
        "outputId": "4215989e-4b8f-40b9-87ba-a1cc59e3a765"
      },
      "execution_count": 17,
      "outputs": [
        {
          "output_type": "stream",
          "name": "stdout",
          "text": [
            "10.6\n",
            "<class 'int'> <class 'float'>\n",
            "<class 'float'>\n"
          ]
        }
      ]
    },
    {
      "cell_type": "code",
      "source": [
        "# The above doesn't hold true for all scenarios\n",
        "print(4 + '4')"
      ],
      "metadata": {
        "colab": {
          "base_uri": "https://localhost:8080/",
          "height": 162
        },
        "id": "sXx_LHTncEVS",
        "outputId": "73a0517a-16e3-409a-9ba9-dc69fbdfdfd7"
      },
      "execution_count": 18,
      "outputs": [
        {
          "output_type": "error",
          "ename": "TypeError",
          "evalue": "unsupported operand type(s) for +: 'int' and 'str'",
          "traceback": [
            "\u001b[0;31m---------------------------------------------------------------------------\u001b[0m",
            "\u001b[0;31mTypeError\u001b[0m                                 Traceback (most recent call last)",
            "\u001b[0;32m<ipython-input-18-f93bab617c7a>\u001b[0m in \u001b[0;36m<cell line: 2>\u001b[0;34m()\u001b[0m\n\u001b[1;32m      1\u001b[0m \u001b[0;31m# The above doesn't hold true for all scenarios\u001b[0m\u001b[0;34m\u001b[0m\u001b[0;34m\u001b[0m\u001b[0m\n\u001b[0;32m----> 2\u001b[0;31m \u001b[0mprint\u001b[0m\u001b[0;34m(\u001b[0m\u001b[0;36m4\u001b[0m \u001b[0;34m+\u001b[0m \u001b[0;34m'4'\u001b[0m\u001b[0;34m)\u001b[0m\u001b[0;34m\u001b[0m\u001b[0;34m\u001b[0m\u001b[0m\n\u001b[0m",
            "\u001b[0;31mTypeError\u001b[0m: unsupported operand type(s) for +: 'int' and 'str'"
          ]
        }
      ]
    },
    {
      "cell_type": "code",
      "source": [
        "# Explicit type conversion\n",
        "\n",
        "# int -> str\n",
        "print(str(4) + '4')\n",
        "\n",
        "# str -> int\n",
        "print(4 + int('4'))\n",
        "\n",
        "# str to float\n",
        "print(float('4'))"
      ],
      "metadata": {
        "colab": {
          "base_uri": "https://localhost:8080/"
        },
        "id": "mAd92IjScjgp",
        "outputId": "560370e8-8672-4bb0-b324-6bcdb3af42c4"
      },
      "execution_count": 26,
      "outputs": [
        {
          "output_type": "stream",
          "name": "stdout",
          "text": [
            "44\n",
            "8\n",
            "4.0\n"
          ]
        }
      ]
    },
    {
      "cell_type": "code",
      "source": [
        "# The above doesn't hold true for all scenarios either\n",
        "print(int(4+5j))"
      ],
      "metadata": {
        "colab": {
          "base_uri": "https://localhost:8080/",
          "height": 162
        },
        "id": "ObGd0Hsvcxso",
        "outputId": "c3e1f908-684f-46e4-db18-8ee8f70c3c06"
      },
      "execution_count": 23,
      "outputs": [
        {
          "output_type": "error",
          "ename": "TypeError",
          "evalue": "int() argument must be a string, a bytes-like object or a real number, not 'complex'",
          "traceback": [
            "\u001b[0;31m---------------------------------------------------------------------------\u001b[0m",
            "\u001b[0;31mTypeError\u001b[0m                                 Traceback (most recent call last)",
            "\u001b[0;32m<ipython-input-23-04c28129e5d3>\u001b[0m in \u001b[0;36m<cell line: 2>\u001b[0;34m()\u001b[0m\n\u001b[1;32m      1\u001b[0m \u001b[0;31m# The above doesn't hold true for all scenarios either\u001b[0m\u001b[0;34m\u001b[0m\u001b[0;34m\u001b[0m\u001b[0m\n\u001b[0;32m----> 2\u001b[0;31m \u001b[0mprint\u001b[0m\u001b[0;34m(\u001b[0m\u001b[0mint\u001b[0m\u001b[0;34m(\u001b[0m\u001b[0;36m4\u001b[0m\u001b[0;34m+\u001b[0m\u001b[0;36m5j\u001b[0m\u001b[0;34m)\u001b[0m\u001b[0;34m)\u001b[0m\u001b[0;34m\u001b[0m\u001b[0;34m\u001b[0m\u001b[0m\n\u001b[0m",
            "\u001b[0;31mTypeError\u001b[0m: int() argument must be a string, a bytes-like object or a real number, not 'complex'"
          ]
        }
      ]
    },
    {
      "cell_type": "code",
      "source": [],
      "metadata": {
        "id": "zlXngS8hdP0l"
      },
      "execution_count": null,
      "outputs": []
    },
    {
      "cell_type": "markdown",
      "source": [
        "# Literals"
      ],
      "metadata": {
        "id": "8p9deRUze33t"
      }
    },
    {
      "cell_type": "markdown",
      "source": [
        "Literals are the raw values that are stored in the variables.\n",
        "In `a = 2`, `a` is variable, `=` is an operator and `2` is the literal."
      ],
      "metadata": {
        "id": "ekqGrOn2e6T8"
      }
    },
    {
      "cell_type": "code",
      "source": [
        "# Binary literal\n",
        "a = 0b1010\n",
        "print(a)\n",
        "\n",
        "# Decimal literal\n",
        "b = 100\n",
        "print(b)\n",
        "\n",
        "# Octal literal\n",
        "c = 0o310\n",
        "print(c)\n",
        "\n",
        "# Hexadecimal literal\n",
        "d = 0x12c\n",
        "print(d)\n",
        "\n",
        "# Float literal\n",
        "e, f, g = 10.5, 1.5e2, 1.5e-3\n",
        "print(e, f, g)\n",
        "\n",
        "# Complex literal\n",
        "h = 3.14j\n",
        "print(h, h.imag, h.real)\n",
        "\n",
        "# String literal\n",
        "i = 'This is in single quotes'\n",
        "j = \"This is in double quotes\"\n",
        "k = \"\"\"\n",
        "    This is a multi-line string\n",
        "    written in triple quotes.\n",
        "    \"\"\"\n",
        "l = 'X'\n",
        "print(i, j, k, l, sep='\\n')\n",
        "\n",
        "m = u\"\\U0001f600\\U0001F606\"\n",
        "n = r\"raw \\n string\"\n",
        "print(m, n, sep='\\n')\n",
        "\n",
        "# Boolean literal\n",
        "o = True + 4\n",
        "p = False + 10\n",
        "print(o, p)\n",
        "\n",
        "# None literal (There's no variable declaration, we can assign None to a var)\n",
        "q = None\n",
        "print(q)"
      ],
      "metadata": {
        "colab": {
          "base_uri": "https://localhost:8080/"
        },
        "id": "PZjl6wxae5la",
        "outputId": "76bee3e7-da04-45e7-9021-35db502b575d"
      },
      "execution_count": 32,
      "outputs": [
        {
          "output_type": "stream",
          "name": "stdout",
          "text": [
            "10\n",
            "100\n",
            "200\n",
            "300\n",
            "10.5 150.0 0.0015\n",
            "3.14j 3.14 0.0\n",
            "This is in single quotes\n",
            "This is in double quotes\n",
            "\n",
            "    This is a multi-line string\n",
            "    written in triple quotes.\n",
            "    \n",
            "X\n",
            "😀😆\n",
            "raw \\n string\n",
            "5 10\n",
            "None\n"
          ]
        }
      ]
    },
    {
      "cell_type": "code",
      "source": [],
      "metadata": {
        "id": "JwRQQE8QgGAd"
      },
      "execution_count": null,
      "outputs": []
    }
  ]
}