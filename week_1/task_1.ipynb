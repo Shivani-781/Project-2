{
  "nbformat": 4,
  "nbformat_minor": 0,
  "metadata": {
    "colab": {
      "provenance": [],
      "include_colab_link": true
    },
    "kernelspec": {
      "name": "python3",
      "display_name": "Python 3"
    },
    "language_info": {
      "name": "python"
    }
  },
  "cells": [
    {
      "cell_type": "markdown",
      "metadata": {
        "id": "view-in-github",
        "colab_type": "text"
      },
      "source": [
        "<a href=\"https://colab.research.google.com/github/Shivani-781/data-science-resources/blob/collab-week-1/week_1/task_1.ipynb\" target=\"_parent\"><img src=\"https://colab.research.google.com/assets/colab-badge.svg\" alt=\"Open In Colab\"/></a>"
      ]
    },
    {
      "cell_type": "markdown",
      "source": [
        "### Q1 :- Print the given strings as per stated format.\n",
        "\n",
        "**Given strings**:\n",
        "```\n",
        "\"Data\" \"Science\" \"Mentorship\" \"Program\"\n",
        "\"By\" \"MAD\"\n",
        "```\n",
        "**Output**:\n",
        "```\n",
        "Data-Science-Mentorship-Program-started-By-MAD\n",
        "```\n",
        "\n",
        "Concept- [Seperator and End]"
      ],
      "metadata": {
        "id": "2doIXf8bqe9_"
      }
    },
    {
      "cell_type": "code",
      "source": [
        "# Write your code here\n",
        "print(\"Data\", \"Science\", \"Mentorship\", \"Program\", sep=\"-\", end=\"-\")\n",
        "print(\"By\", \"MAD\", sep=\"-\")"
      ],
      "metadata": {
        "id": "-em6d3KErDtp",
        "colab": {
          "base_uri": "https://localhost:8080/"
        },
        "outputId": "cb790542-bd4b-49f3-e9de-356f27a3e4e4"
      },
      "execution_count": 2,
      "outputs": [
        {
          "output_type": "stream",
          "name": "stdout",
          "text": [
            "Data-Science-Mentorship-Program-By-MAD\n"
          ]
        }
      ]
    },
    {
      "cell_type": "markdown",
      "source": [
        "### Q2:- Write a program that will convert celsius value to fahrenheit."
      ],
      "metadata": {
        "id": "1KUpN7ZTrC3_"
      }
    },
    {
      "cell_type": "code",
      "source": [
        "# Write your code here\n",
        "degree_c = float(input(\"Enter Degree in Celcius: \"))\n",
        "degree_f = (9/5 * degree_c) + 32\n",
        "print('The degree in Fahrenheit is: %.2f ' %(degree_f))"
      ],
      "metadata": {
        "id": "yxKYhYQiqWfj",
        "colab": {
          "base_uri": "https://localhost:8080/"
        },
        "outputId": "a8917a58-d87c-484b-d900-57559d08b08f"
      },
      "execution_count": 4,
      "outputs": [
        {
          "output_type": "stream",
          "name": "stdout",
          "text": [
            "Enter Degree in Celcius: -40\n",
            "The degree in Fahrenheit is: -40.00 \n"
          ]
        }
      ]
    },
    {
      "cell_type": "markdown",
      "source": [
        "### Q3:- Take 2 numbers as input from the user.Write a program to swap the numbers without using any special python syntax."
      ],
      "metadata": {
        "id": "RLrOBBJurLB2"
      }
    },
    {
      "cell_type": "code",
      "source": [
        "# Write your code here\n",
        "a = int(input(\"Enter First Number: \"))\n",
        "b = int(input(\"Enter Second Number: \"))\n",
        "c = a\n",
        "a = b\n",
        "b = c\n",
        "print(\"After Swapping\")\n",
        "print(\"First Number: \", a)\n",
        "print(\"Second Number: \", b)"
      ],
      "metadata": {
        "id": "yPn7if0TrJ4F",
        "colab": {
          "base_uri": "https://localhost:8080/"
        },
        "outputId": "b5284e38-f3b8-4a93-d278-fa3d18bdee82"
      },
      "execution_count": 5,
      "outputs": [
        {
          "output_type": "stream",
          "name": "stdout",
          "text": [
            "Enter First Number: 2\n",
            "Enter Second Number: 3\n",
            "After Swapping\n",
            "First Number:  3\n",
            "Second Number:  2\n"
          ]
        }
      ]
    },
    {
      "cell_type": "markdown",
      "source": [
        "### Q4:- Write a program to find the euclidean distance between two coordinates.Take both the coordinates from the user as input."
      ],
      "metadata": {
        "id": "waLCP1bjr7ML"
      }
    },
    {
      "cell_type": "code",
      "source": [
        "# Write your code here\n",
        "x1, y1 = map(float, input(\"Enter the First Point's Coordinates separted by comma: \").split(\",\"))\n",
        "x2, y2 = map(float, input(\"Enter the Second Points' Coordiantes separated by comma: \").split(\",\"))\n",
        "d = ((x2-x1)**2 + (y2-y1)**2)**0.5\n",
        "print(\"The Euclidean Distance is: %.2f\" %(d))"
      ],
      "metadata": {
        "id": "Pl1Sv-xnrxnH",
        "colab": {
          "base_uri": "https://localhost:8080/"
        },
        "outputId": "b957653c-60ef-4446-c11b-230604d4c253"
      },
      "execution_count": 15,
      "outputs": [
        {
          "output_type": "stream",
          "name": "stdout",
          "text": [
            "Enter the First Point's Coordinates separted by comma: 13,24\n",
            "Enter the Second Points' Coordiantes separated by comma: 3,5\n",
            "The Euclidean Distance is: 21.47\n"
          ]
        }
      ]
    },
    {
      "cell_type": "markdown",
      "source": [
        "### Q5:- Write a program to find the simple interest when the value of principle,rate of interest and time period is provided by the user.\n"
      ],
      "metadata": {
        "id": "VLrhg-FRsHjR"
      }
    },
    {
      "cell_type": "code",
      "source": [
        "# Write your code here\n",
        "p = float(input(\"Enter the Principle Amount: \"))\n",
        "r = float(input(\"Enter the Rate of Interest: \"))\n",
        "t = float(input(\"Enter the Time Period: \"))\n",
        "si = (p*r*t)/100\n",
        "print(\"The Simple Interest is: %.2f\" %(si))"
      ],
      "metadata": {
        "id": "s40DlReZsTmY",
        "colab": {
          "base_uri": "https://localhost:8080/"
        },
        "outputId": "7d10d654-1087-43bf-9b24-6a424fa38152"
      },
      "execution_count": 16,
      "outputs": [
        {
          "output_type": "stream",
          "name": "stdout",
          "text": [
            "Enter the Principle Amount: 1000\n",
            "Enter the Rate of Interest: 6\n",
            "Enter the Time Period: 1\n",
            "The Simple Interest is: 60.00\n"
          ]
        }
      ]
    },
    {
      "cell_type": "markdown",
      "source": [
        "### Q6:- Write a program that will tell the number of dogs and chicken are there when the user will provide the value of total heads and legs.\n",
        "\n",
        "For example:\n",
        "Input:\n",
        "heads -> 4\n",
        "legs -> 12\n",
        "<br>\n",
        "Output:\n",
        "dogs -> 2\n",
        "chicken -> 2\n",
        "\n",
        "\n",
        "\n"
      ],
      "metadata": {
        "id": "LMy0BTUktYKa"
      }
    },
    {
      "cell_type": "code",
      "source": [
        "# Write your code here\n",
        "heads = int(input(\"Enter the Number of Heads: \"))\n",
        "legs = int(input(\"Enter the Number of Legs: \"))\n",
        "chickens = (4 * heads - legs) / 2\n",
        "dogs = heads - chickens\n",
        "print(\"Number of Chickens: \", int(chickens))\n",
        "print(\"Number of Dogs: \", int(dogs))"
      ],
      "metadata": {
        "id": "XSBvJoA4tXaG",
        "colab": {
          "base_uri": "https://localhost:8080/"
        },
        "outputId": "ea71d7f8-6e58-4c54-88e9-2018dfbe2a9b"
      },
      "execution_count": 17,
      "outputs": [
        {
          "output_type": "stream",
          "name": "stdout",
          "text": [
            "Enter the Number of Heads: 4\n",
            "Enter the Number of Legs: 12\n",
            "Number of Chickens:  2\n",
            "Number of Dogs:  2\n"
          ]
        }
      ]
    },
    {
      "cell_type": "markdown",
      "source": [
        "### Q7:- Write a program to find the sum of squares of first n natural numbers where n will be provided by the user."
      ],
      "metadata": {
        "id": "gJ7C5kZYt4BP"
      }
    },
    {
      "cell_type": "code",
      "source": [
        "# Write your code here\n",
        "n = int(input(\"Enter the Number: \"))\n",
        "sum = 0\n",
        "for i in range(1, n+1):\n",
        "    sum += i**2\n",
        "print(\"The Sum of Squares of First %d Natural Numbers is: %d\" %(n, sum))"
      ],
      "metadata": {
        "id": "_tHsmEHzt2nX",
        "colab": {
          "base_uri": "https://localhost:8080/"
        },
        "outputId": "7874dca7-0dcd-4ef6-9ef2-2c2fc57b8a09"
      },
      "execution_count": 19,
      "outputs": [
        {
          "output_type": "stream",
          "name": "stdout",
          "text": [
            "Enter the Number: 5\n",
            "The Sum of Squares of First 5 Natural Numbers is: 55\n"
          ]
        }
      ]
    },
    {
      "cell_type": "markdown",
      "source": [
        "### Q8:- Given the first 2 terms of an Arithmetic Series.Find the Nth term of the series. Assume all inputs are provided by the user."
      ],
      "metadata": {
        "id": "FHrMM7g-yG1h"
      }
    },
    {
      "cell_type": "code",
      "source": [
        "# Write your code here\n",
        "a = int(input(\"Enter the First Term: \"))\n",
        "b = int(input(\"Enter the Second Term: \"))\n",
        "n = int(input(\"Enter the Nth Term: \"))\n",
        "d = b - a\n",
        "nth_term = a + (n-1)*d\n",
        "print(\"The %dth Term of the Arithmetic Series is: %d\" %(n, nth_term))"
      ],
      "metadata": {
        "id": "go4_kmZmyVSx",
        "colab": {
          "base_uri": "https://localhost:8080/"
        },
        "outputId": "6c71dde2-7a2a-409d-dafc-441d0d981bab"
      },
      "execution_count": 20,
      "outputs": [
        {
          "output_type": "stream",
          "name": "stdout",
          "text": [
            "Enter the First Term: 1\n",
            "Enter the Second Term: 4\n",
            "Enter the Nth Term: 5\n",
            "The 5th Term of the Arithmetic Series is: 13\n"
          ]
        }
      ]
    },
    {
      "cell_type": "markdown",
      "source": [
        "### Q9:- Given 2 fractions, find the sum of those 2 fractions.Take the numerator and denominator values of the fractions from the user."
      ],
      "metadata": {
        "id": "QgyRX_es1oum"
      }
    },
    {
      "cell_type": "code",
      "source": [
        "# Write your code here\n",
        "a, b = map(int, input(\"Enter the First Fraction: \").split(\"/\"))\n",
        "c, d = map(int, input(\"Enter the Second Fraction: \").split(\"/\"))\n",
        "s = a*d + b*c\n",
        "d = b*d\n",
        "print(\"The Sum of the Fractions is: %d/%d\" %(s, d))"
      ],
      "metadata": {
        "id": "X05xqFS1yW16",
        "colab": {
          "base_uri": "https://localhost:8080/"
        },
        "outputId": "d4e2aee4-d609-47b5-8558-f9b0f4c67967"
      },
      "execution_count": 21,
      "outputs": [
        {
          "output_type": "stream",
          "name": "stdout",
          "text": [
            "Enter the First Fraction: 3/4\n",
            "Enter the Second Fraction: 1/2\n",
            "The Sum of the Fractions is: 10/8\n"
          ]
        }
      ]
    },
    {
      "cell_type": "markdown",
      "source": [
        "### Q10:- Given the height, width and breadth of a milk tank, you have to find out how many glasses of milk can be obtained? Assume all the inputs are provided by the user.\n",
        "\n",
        "\n",
        "\n",
        "Input:<br>\n",
        "Dimensions of the milk tank<br>\n",
        "H = 20cm, L = 20cm, B = 20cm\n",
        "<br><br>\n",
        "Dimensions of the glass<br>\n",
        "h = 3cm, r = 1cm"
      ],
      "metadata": {
        "id": "eaql38ln13u7"
      }
    },
    {
      "cell_type": "code",
      "source": [
        "# Write your code here\n",
        "H, L, B = map(float, input(\"Enter the Dimensions of the Milk Tank: \").split(\",\"))\n",
        "h, r = map(float, input(\"Enter the Dimensions of the Glass: \").split(\",\"))\n",
        "vol_tank = H*L*B\n",
        "vol_glass = 3.14*(r**2)*h\n",
        "print(\"Number of Glasses: \", int(vol_tank/vol_glass))"
      ],
      "metadata": {
        "id": "FePZqno74eWv",
        "colab": {
          "base_uri": "https://localhost:8080/"
        },
        "outputId": "0099774b-5abe-49db-f64f-c85c42caa07d"
      },
      "execution_count": 23,
      "outputs": [
        {
          "output_type": "stream",
          "name": "stdout",
          "text": [
            "Enter the Dimensions of the Milk Tank: 3,4,5\n",
            "Enter the Dimensions of the Glass: 1,2\n",
            "Number of Glasses:  4\n"
          ]
        }
      ]
    }
  ]
}